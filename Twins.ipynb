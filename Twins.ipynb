{
 "cells": [
  {
   "cell_type": "markdown",
   "metadata": {},
   "source": [
    "# Twin US births in 1989-1991.\n",
    "Raw data is taken from here:\n",
    "http://www.nber.org/data/linked-birth-infant-death-data-vital-statistics-data.html\n",
    "Specifically these files:\n",
    "http://www.nber.org/lbid/1989/linkco1989us_den.csv.zip\n",
    "http://www.nber.org/lbid/1990/linkco1990us_den.csv.zip\n",
    "http://www.nber.org/lbid/1991/linkco1991us_den.csv.zip\n",
    "\n",
    "The dataset guide is available here:\n",
    "http://www.nber.org/lbid/docs/LinkCO89Guide.pdf\n",
    "\n",
    "The dataset idea is based on the paper:\n",
    "Almond, Douglas, Kenneth Y. Chay, and David S. Lee. \"The costs of low birth weight.\" \n",
    "The Quarterly Journal of Economics 120.3 (2005): 1031-1083.\n",
    "\n",
    "- twin_pairs_X_3years_samesex.csv includes 50 covariates for the twin pair such as mother\n",
    "and father age and education, health complications and so on. The features which are \n",
    "different between the pair such as sex and birth order are denoted with _0 and _1 for \n",
    "the lighter and heavier twin, respectively.\n",
    "\n",
    "- twin_pairs_T_3years_samesex.csv includes the birth weights in grams of both twins in the \n",
    "pair, dbirt_0 and dbirt_1. The lightest always first. I removed all pairs with exactly \n",
    "the same weight.\n",
    "\n",
    "- twin_pairs_Y_3years_samesex.csv includes the mortality outcome for both twins, mort_0 \n",
    "and mort_1.\n",
    "\n",
    "- covar_types.txt indicates for each of the column in twin_pairs_X.csv whether it is binary\n",
    "(e.g. married mom), ordinal (e.g. age mom), categorical (e.g. state of birth), or cyclical \n",
    "(just one: month of birth)."
   ]
  },
  {
   "cell_type": "code",
   "execution_count": 30,
   "metadata": {},
   "outputs": [],
   "source": [
    "import os, sys\n",
    "import pandas as pd\n",
    "import numpy as np\n",
    "import json"
   ]
  },
  {
   "cell_type": "code",
   "execution_count": 52,
   "metadata": {},
   "outputs": [],
   "source": [
    "T = pd.read_csv(\"https://raw.githubusercontent.com/AMLab-Amsterdam/CEVAE/master/datasets/TWINS/twin_pairs_T_3years_samesex.csv\")\n",
    "X = pd.read_csv(\"https://raw.githubusercontent.com/AMLab-Amsterdam/CEVAE/master/datasets/TWINS/twin_pairs_X_3years_samesex.csv\")\n",
    "Y = pd.read_csv(\"https://raw.githubusercontent.com/AMLab-Amsterdam/CEVAE/master/datasets/TWINS/twin_pairs_Y_3years_samesex.csv\")"
   ]
  },
  {
   "cell_type": "code",
   "execution_count": 42,
   "metadata": {},
   "outputs": [],
   "source": [
    "with open(\"./TWINS/covar_desc.txt\") as f:\n",
    "    XDesc = json.loads(f.read())"
   ]
  },
  {
   "cell_type": "code",
   "execution_count": 55,
   "metadata": {
    "scrolled": true
   },
   "outputs": [
    {
     "data": {
      "text/plain": [
       "Index(['Unnamed: 0', 'Unnamed: 0.1', 'pldel', 'birattnd', 'brstate',\n",
       "       'stoccfipb', 'mager8', 'ormoth', 'mrace', 'meduc6', 'dmar', 'mplbir',\n",
       "       'mpre5', 'adequacy', 'orfath', 'frace', 'birmon', 'gestat10', 'csex',\n",
       "       'anemia', 'cardiac', 'lung', 'diabetes', 'herpes', 'hydra', 'hemo',\n",
       "       'chyper', 'phyper', 'eclamp', 'incervix', 'pre4000', 'preterm', 'renal',\n",
       "       'rh', 'uterine', 'othermr', 'tobacco', 'alcohol', 'cigar6', 'drink5',\n",
       "       'crace', 'data_year', 'nprevistq', 'dfageq', 'feduc6', 'infant_id_0',\n",
       "       'infant_id_1', 'dlivord_min', 'dtotord_min', 'bord_0', 'bord_1',\n",
       "       'brstate_reg', 'stoccfipb_reg', 'mplbir_reg'],\n",
       "      dtype='object')"
      ]
     },
     "execution_count": 55,
     "metadata": {},
     "output_type": "execute_result"
    }
   ],
   "source": [
    "X.columns"
   ]
  },
  {
   "cell_type": "code",
   "execution_count": 54,
   "metadata": {},
   "outputs": [
    {
     "data": {
      "text/plain": [
       "Index(['Unnamed: 0', 'mort_0', 'mort_1'], dtype='object')"
      ]
     },
     "execution_count": 54,
     "metadata": {},
     "output_type": "execute_result"
    }
   ],
   "source": [
    "Y.columns"
   ]
  },
  {
   "cell_type": "code",
   "execution_count": 56,
   "metadata": {},
   "outputs": [
    {
     "data": {
      "text/plain": [
       "Index(['Unnamed: 0', 'dbirwt_0', 'dbirwt_1'], dtype='object')"
      ]
     },
     "execution_count": 56,
     "metadata": {},
     "output_type": "execute_result"
    }
   ],
   "source": [
    "T.columns"
   ]
  },
  {
   "cell_type": "code",
   "execution_count": 65,
   "metadata": {},
   "outputs": [
    {
     "data": {
      "text/plain": [
       "<matplotlib.axes._subplots.AxesSubplot at 0x7fb92761d7f0>"
      ]
     },
     "execution_count": 65,
     "metadata": {},
     "output_type": "execute_result"
    },
    {
     "data": {
      "image/png": "[encoded data removed]",
      "text/plain": [
       "<Figure size 432x288 with 1 Axes>"
      ]
     },
     "metadata": {
      "needs_background": "light"
     },
     "output_type": "display_data"
    }
   ],
   "source": [
    "Y['mort_0'].hist(bins=3, alpha=0.5)\n",
    "Y['mort_1'].hist(bins=2, alpha=0.5)"
   ]
  },
  {
   "cell_type": "code",
   "execution_count": 69,
   "metadata": {},
   "outputs": [
    {
     "data": {
      "text/plain": [
       "<matplotlib.axes._subplots.AxesSubplot at 0x7fb9275f4588>"
      ]
     },
     "execution_count": 69,
     "metadata": {},
     "output_type": "execute_result"
    },
    {
     "data": {
      "image/png": "[encoded data removed]",
      "text/plain": [
       "<Figure size 432x288 with 1 Axes>"
      ]
     },
     "metadata": {
      "needs_background": "light"
     },
     "output_type": "display_data"
    }
   ],
   "source": [
    "T['dbirwt_0'].hist(alpha=0.5)\n",
    "T['dbirwt_1'].hist(alpha=0.5)"
   ]
  }
 ],
 "metadata": {
  "kernelspec": {
   "display_name": "Python 3",
   "language": "python",
   "name": "python3"
  },
  "language_info": {
   "codemirror_mode": {
    "name": "ipython",
    "version": 3
   },
   "file_extension": ".py",
   "mimetype": "text/x-python",
   "name": "python",
   "nbconvert_exporter": "python",
   "pygments_lexer": "ipython3",
   "version": "3.6.9"
  }
 },
 "nbformat": 4,
 "nbformat_minor": 2
}
